{
 "cells": [
  {
   "cell_type": "markdown",
   "metadata": {
    "slideshow": {
     "slide_type": "slide"
    }
   },
   "source": [
    "![cover](./cover-trailing-commas.png)"
   ]
  },
  {
   "cell_type": "markdown",
   "metadata": {
    "slideshow": {
     "slide_type": "slide"
    }
   },
   "source": [
    "# Trailing commas, and Why to Use it"
   ]
  },
  {
   "cell_type": "markdown",
   "metadata": {
    "slideshow": {
     "slide_type": "slide"
    }
   },
   "source": [
    "## What are trailing commas\n",
    "\n",
    "You can use a additional, last comma after the last element of tuples, list,\n",
    "sets, dictionaries.\n",
    "\n",
    "Better with an example."
   ]
  },
  {
   "cell_type": "markdown",
   "metadata": {
    "slideshow": {
     "slide_type": "slide"
    }
   },
   "source": [
    "### Find the difference. What is the good one?\n",
    "\n",
    "    l1 = [\"alpha\", \"beta\", \"gamma\"]\n",
    "\n",
    "    l2 = [\"alpha\", \"beta\", \"gamma\",]"
   ]
  },
  {
   "cell_type": "markdown",
   "metadata": {
    "slideshow": {
     "slide_type": "slide"
    }
   },
   "source": [
    "### Both are valid\n",
    "\n",
    "Both options are equally valid, and the output are equal in both cases.\n",
    "\n",
    "Specifically, `l2` have three elements, not four."
   ]
  },
  {
   "cell_type": "code",
   "execution_count": 1,
   "metadata": {
    "slideshow": {
     "slide_type": "slide"
    }
   },
   "outputs": [
    {
     "name": "stdout",
     "output_type": "stream",
     "text": [
      "All right!\n"
     ]
    }
   ],
   "source": [
    "# Execute this\n",
    "\n",
    "l1 = [\"alpha\", \"beta\", \"gamma\"]\n",
    "l2 = [\"alpha\", \"beta\", \"gamma\",]\n",
    "if l1 == l2:\n",
    "    print(\"All right!\")"
   ]
  },
  {
   "cell_type": "markdown",
   "metadata": {
    "slideshow": {
     "slide_type": "slide"
    }
   },
   "source": [
    "### You can use trailing commans in many modern languages"
   ]
  },
  {
   "cell_type": "markdown",
   "metadata": {
    "slideshow": {
     "slide_type": "subslide"
    }
   },
   "source": [
    "- **JavaScript** has allowed trailing commas in array literals since the\n",
    "  beginning, and later added them to object literals (ECMAScript 5) and most\n",
    "  recently (ECMAScript 2017) to function parameters."
   ]
  },
  {
   "cell_type": "markdown",
   "metadata": {
    "slideshow": {
     "slide_type": "subslide"
    }
   },
   "source": [
    "- **C#** allows you to have the trailing comma after the last item in object,\n",
    "  array, and collection initializers, as well as enums and switch expressions."
   ]
  },
  {
   "cell_type": "markdown",
   "metadata": {
    "slideshow": {
     "slide_type": "subslide"
    }
   },
   "source": [
    "- **C and C++** allow a trailing comma in lists."
   ]
  },
  {
   "cell_type": "markdown",
   "metadata": {
    "slideshow": {
     "slide_type": "subslide"
    }
   },
   "source": [
    "- ⚠ Beware trailing commas are <span class=\"fragment\" style=\"color: red;\">**NOT VALID** in **JSON**<span>.   "
   ]
  },
  {
   "cell_type": "markdown",
   "metadata": {
    "slideshow": {
     "slide_type": "slide"
    }
   },
   "source": [
    "### Normal use \n",
    "\n",
    "The normal use on this is when you have one item per line:\n",
    "\n",
    "    Avengers = [\n",
    "        \"Iron Man\",\n",
    "        \"The Wasp\",\n",
    "        \"Hulk\",\n",
    "        \"Ant-Man\",\n",
    "    ]"
   ]
  },
  {
   "cell_type": "markdown",
   "metadata": {
    "slideshow": {
     "slide_type": "slide"
    }
   },
   "source": [
    "### Import Example\n",
    "\n",
    "You can use it also in imports, if wrappded with parenthesis:\n",
    "\n",
    "    import (\n",
    "        asyncio,\n",
    "        urllib,\n",
    "        argparse,\n",
    "        )"
   ]
  },
  {
   "cell_type": "markdown",
   "metadata": {
    "slideshow": {
     "slide_type": "slide"
    }
   },
   "source": [
    "### Function parameters\n",
    "\n",
    "You can use it for a long list of functions parameters. Specially useful if using type annotations::\n",
    "\n",
    "    def f(\n",
    "            a: int,\n",
    "            b: float,\n",
    "            c: bool,\n",
    "        ) -> tuple:\n",
    "        return (a, b, c)"
   ]
  },
  {
   "cell_type": "markdown",
   "metadata": {
    "slideshow": {
     "slide_type": "slide"
    }
   },
   "source": [
    "### OK, so trailing commas are optional. I got it\n",
    "\n",
    "Rest of the presentation is trying to convince you:"
   ]
  },
  {
   "cell_type": "markdown",
   "metadata": {
    "slideshow": {
     "slide_type": "fragment"
    }
   },
   "source": [
    "- this is not just something you __may__ use"
   ]
  },
  {
   "cell_type": "markdown",
   "metadata": {
    "slideshow": {
     "slide_type": "fragment"
    }
   },
   "source": [
    "- but something you __must__ use."
   ]
  },
  {
   "cell_type": "markdown",
   "metadata": {
    "slideshow": {
     "slide_type": "slide"
    }
   },
   "source": [
    "### It makes easier to add new items\n",
    "\n",
    "Lets add a new avengers, first without trailing commas and then with trailing commas: "
   ]
  },
  {
   "cell_type": "code",
   "execution_count": 2,
   "metadata": {
    "slideshow": {
     "slide_type": "slide"
    }
   },
   "outputs": [],
   "source": [
    "# %load avengers.py\n",
    "Avengers = [\n",
    "    \"Iron Man\",\n",
    "    \"The Wasp\",\n",
    "    \"Hulk\",\n",
    "    \"Ant-Man\"\n",
    "]\n",
    "\n",
    "# -------------------\n",
    "\n",
    "Avengers = [\n",
    "    \"Iron Man\",\n",
    "    \"The Wasp\",\n",
    "    \"Hulk\",\n",
    "    \"Ant-Man\",\n",
    "]\n"
   ]
  },
  {
   "cell_type": "markdown",
   "metadata": {
    "slideshow": {
     "slide_type": "slide"
    }
   },
   "source": [
    "![Add a new avenger](avengers.png)"
   ]
  },
  {
   "cell_type": "markdown",
   "metadata": {
    "slideshow": {
     "slide_type": "slide"
    }
   },
   "source": [
    "So it makes easier to add new items, and the patch in the version control is easier to understand. The same for deleting rows."
   ]
  },
  {
   "cell_type": "markdown",
   "metadata": {
    "slideshow": {
     "slide_type": "slide"
    }
   },
   "source": [
    "### It makes easier to re-sort items\n",
    "\n",
    "Lets see this code, again first version no not use trailing commas, second one is using it."
   ]
  },
  {
   "cell_type": "code",
   "execution_count": 3,
   "metadata": {},
   "outputs": [
    {
     "name": "stdout",
     "output_type": "stream",
     "text": [
      "All right\n"
     ]
    }
   ],
   "source": [
    "# %load gems.py\n",
    "gems_a = {\n",
    "    \"topaz\": {\"blue\"},\n",
    "    \"jade\": {\"green\", \"lavender\", \"red\", \"yellow\", \"white\", \"black\"},\n",
    "    \"opal\": {\"white\", \"gray\", \"green\"},\n",
    "    \"azurite\": {\"deep blue\"}\n",
    "}\n",
    "\n",
    "# -------------------\n",
    "\n",
    "gems_b = {\n",
    "    \"topaz\": {\"blue\"},\n",
    "    \"jade\": {\"green\", \"lavender\", \"red\", \"yellow\", \"white\", \"black\"},\n",
    "    \"opal\": {\"white\", \"gray\", \"green\"},\n",
    "    \"azurite\": {\"deep blue\"},\n",
    "}\n",
    "\n",
    "if gems_a == gems_b:\n",
    "    print(\"All right\")\n"
   ]
  },
  {
   "cell_type": "code",
   "execution_count": 4,
   "metadata": {
    "slideshow": {
     "slide_type": "notes"
    }
   },
   "outputs": [],
   "source": [
    "# Reorder in vim"
   ]
  },
  {
   "cell_type": "markdown",
   "metadata": {
    "slideshow": {
     "slide_type": "slide"
    }
   },
   "source": [
    "Reorder this variable to sort lines by key value is more complex:\n",
    "\n",
    "- in the first one. You have to reorder, add the trailing comma to `azurite` entry (and remove the comma in topaz, if you want to be consistent)\n",
    "\n",
    "- In second case, you only need to reorder."
   ]
  },
  {
   "cell_type": "markdown",
   "metadata": {
    "slideshow": {
     "slide_type": "slide"
    }
   },
   "source": [
    "Finally, it's easier to generate code automatically, because you don't need to care in removing the last comma."
   ]
  },
  {
   "cell_type": "markdown",
   "metadata": {
    "slideshow": {
     "slide_type": "slide"
    }
   },
   "source": [
    "# Thanks for your attention\n",
    "\n",
    "## Any questions?"
   ]
  }
 ],
 "metadata": {
  "celltoolbar": "Slideshow",
  "kernelspec": {
   "display_name": "Python 3",
   "language": "python",
   "name": "python3"
  },
  "language_info": {
   "codemirror_mode": {
    "name": "ipython",
    "version": 3
   },
   "file_extension": ".py",
   "mimetype": "text/x-python",
   "name": "python",
   "nbconvert_exporter": "python",
   "pygments_lexer": "ipython3",
   "version": "3.7.6"
  }
 },
 "nbformat": 4,
 "nbformat_minor": 2
}
